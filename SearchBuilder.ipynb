{
 "cells": [
  {
   "cell_type": "code",
   "execution_count": 1,
   "id": "07861d01",
   "metadata": {},
   "outputs": [
    {
     "data": {
      "text/html": [
       "<script>\n",
       "code_show=true; \n",
       "function code_toggle() {\n",
       " if (code_show){\n",
       " $('div.input').hide();\n",
       " } else {\n",
       " $('div.input').show();\n",
       " }\n",
       " code_show = !code_show\n",
       "} \n",
       "$( document ).ready(code_toggle);\n",
       "</script>\n",
       "<form action=\"javascript:code_toggle()\"><input type=\"submit\" value=\"Hide/View Code\"></form>"
      ],
      "text/plain": [
       "<IPython.core.display.HTML object>"
      ]
     },
     "metadata": {},
     "output_type": "display_data"
    }
   ],
   "source": [
    "from IPython.display import display, clear_output, HTML\n",
    "\n",
    "display(HTML('''<script>\n",
    "code_show=true; \n",
    "function code_toggle() {\n",
    " if (code_show){\n",
    " $('div.input').hide();\n",
    " } else {\n",
    " $('div.input').show();\n",
    " }\n",
    " code_show = !code_show\n",
    "} \n",
    "$( document ).ready(code_toggle);\n",
    "</script>\n",
    "<form action=\"javascript:code_toggle()\"><input type=\"submit\" value=\"Hide/View Code\"></form>'''))\n",
    "from ipywidgets import Text, Textarea, Button, VBox, Dropdown, Output"
   ]
  },
  {
   "cell_type": "code",
   "execution_count": 2,
   "id": "6b6552f3",
   "metadata": {},
   "outputs": [],
   "source": [
    "judge = ['USDCJ', 'USDJ', 'Judge']\n",
    "attorney = ['AUSA', 'Attorney', 'DA']\n",
    "deputy = ['Marshal', 'DUSM', 'Deputy']\n",
    "other = []\n",
    "\n",
    "def builder(first, middle, last, selection):\n",
    "    \n",
    "    flast = f\"{first} {last}\"\n",
    "    \n",
    "    if middle:\n",
    "        full = f\"{first} {middle} {last}\"\n",
    "        fullinitp = f\"{first} {middle[0]}. {last}\"\n",
    "        fullinit = f\"{first} {middle[0]} {last}\"\n",
    "    \n",
    "    if sbox.value == 4:\n",
    "        selection = othertext.value.split('\\n')\n",
    "    strtitles = '\" OR \"'.join([x+f' {last}' for x in selection])\n",
    "    titles = f'\"{strtitles}\"'\n",
    "    \n",
    "    gtsearch1 = f'{titles} OR \"{flast}\"'\n",
    "    fbsearch1 = f'{first}+{last}+judge'\n",
    "    \n",
    "    if middle:\n",
    "        \n",
    "        gtsearch2 = f'{gtsearch1} OR \"{full}\" OR \"{fullinitp}\" OR \"{fullinit}\"'\n",
    "        fbsearch2 = f'{first}+{middle[0]}+{last}'\n",
    "        return gtsearch2, fbsearch2\n",
    "    \n",
    "    return gtsearch1, fbsearch1\n",
    "\n",
    "def gathervals(fbox, mbox, lbox, sbox):\n",
    "    \n",
    "    first = fbox.value\n",
    "    middle = mbox.value\n",
    "    last = lbox.value\n",
    "    selection = sbox.value\n",
    "    \n",
    "    if selection == 1:\n",
    "        selection = judge\n",
    "    elif selection == 2:\n",
    "        selection = attorney\n",
    "    elif selection == 3:\n",
    "        selection = deputy\n",
    "    else:\n",
    "        selection = other\n",
    "    \n",
    "    return first, middle, last, selection"
   ]
  },
  {
   "cell_type": "code",
   "execution_count": 3,
   "id": "db4156ee",
   "metadata": {},
   "outputs": [],
   "source": [
    "fbox = Text(placeholder='First Name')\n",
    "mbox = Text(placeholder='Middle Name')\n",
    "lbox = Text(placeholder='Last Name')\n",
    "othertext = Textarea(placeholder='Type new line separated titles for the protected person (i.e. Dr, Doctor)')"
   ]
  },
  {
   "cell_type": "code",
   "execution_count": 4,
   "id": "33079d9e",
   "metadata": {},
   "outputs": [],
   "source": [
    "sbox = Dropdown(\n",
    "    options=[('Judge', 1), ('Attorney', 2), ('Deputy', 3), ('Other', 4)],\n",
    "    value=1,\n",
    "    description='Type'\n",
    ")\n",
    "\n",
    "def add_other(_):\n",
    "    if sbox.value == 4:\n",
    "        clear_output()\n",
    "        display(VBox([sbox, othertext]))\n",
    "    else:\n",
    "        clear_output()\n",
    "        display(sbox)\n",
    "        \n",
    "sbox.observe(add_other, names='value')"
   ]
  },
  {
   "cell_type": "code",
   "execution_count": 5,
   "id": "b297ecd1",
   "metadata": {},
   "outputs": [],
   "source": [
    "build = Button(\n",
    "    description='Build Search',\n",
    "    disabled=False,\n",
    "    button_style='success'\n",
    ")\n",
    "output = Output()\n",
    "\n",
    "def on_build_clicked(e):\n",
    "    \n",
    "    with output:\n",
    "        \n",
    "        clear_output()\n",
    "        first, middle, last, selection = gathervals(fbox, mbox, lbox, sbox)\n",
    "        search1, search2 = builder(first, middle, last, selection)\n",
    "\n",
    "        print(f'\\n{search1}')\n",
    "        print(f'\\n{search2}')\n",
    "\n",
    "build.on_click(on_build_clicked)"
   ]
  },
  {
   "cell_type": "code",
   "execution_count": 6,
   "id": "e83a6b92",
   "metadata": {},
   "outputs": [
    {
     "data": {
      "application/vnd.jupyter.widget-view+json": {
       "model_id": "1244b1a952a04681adc2d84ebcd84a89",
       "version_major": 2,
       "version_minor": 0
      },
      "text/plain": [
       "VBox(children=(Dropdown(description='Type', index=3, options=(('Judge', 1), ('Attorney', 2), ('Deputy', 3), ('…"
      ]
     },
     "metadata": {},
     "output_type": "display_data"
    }
   ],
   "source": [
    "sbox"
   ]
  },
  {
   "cell_type": "code",
   "execution_count": 7,
   "id": "6fdfcf66",
   "metadata": {},
   "outputs": [
    {
     "data": {
      "application/vnd.jupyter.widget-view+json": {
       "model_id": "f10603e8dfbd4df1b2413eaadb615189",
       "version_major": 2,
       "version_minor": 0
      },
      "text/plain": [
       "VBox(children=(Text(value='', placeholder='First Name'), Text(value='', placeholder='Middle Name'), Text(value…"
      ]
     },
     "metadata": {},
     "output_type": "display_data"
    }
   ],
   "source": [
    "VBox([fbox, mbox, lbox, build, output])"
   ]
  }
 ],
 "metadata": {
  "kernelspec": {
   "display_name": "Python 3 (ipykernel)",
   "language": "python",
   "name": "python3"
  },
  "language_info": {
   "codemirror_mode": {
    "name": "ipython",
    "version": 3
   },
   "file_extension": ".py",
   "mimetype": "text/x-python",
   "name": "python",
   "nbconvert_exporter": "python",
   "pygments_lexer": "ipython3",
   "version": "3.9.7"
  }
 },
 "nbformat": 4,
 "nbformat_minor": 5
}
